{
 "cells": [
  {
   "cell_type": "markdown",
   "metadata": {},
   "source": [
    "## Control Statements"
   ]
  },
  {
   "cell_type": "markdown",
   "metadata": {},
   "source": [
    "###  Control statements are nothing but a series of statements that a program follows to get the desired results."
   ]
  },
  {
   "cell_type": "markdown",
   "metadata": {},
   "source": [
    "## if condition :        \n",
    "##        statements-1 \n",
    "## else:\n",
    "##        statements-2"
   ]
  },
  {
   "cell_type": "markdown",
   "metadata": {},
   "source": [
    "## If Statement"
   ]
  },
  {
   "cell_type": "code",
   "execution_count": 4,
   "metadata": {},
   "outputs": [],
   "source": [
    "x = [1,2,3,4,5,6,7,8,9,10,11]\n",
    "i = 1,2,3,4\n",
    "if i in x:\n",
    "    print(i)"
   ]
  },
  {
   "cell_type": "code",
   "execution_count": 6,
   "metadata": {},
   "outputs": [
    {
     "name": "stdout",
     "output_type": "stream",
     "text": [
      "What is your mark in the recruitment test:69\n",
      "You are on average, try again\n"
     ]
    }
   ],
   "source": [
    "Number = float(input(\"What is your mark in the recruitment test:\"))\n",
    "\n",
    "if Number>=50:\n",
    "    print('You are on average, try again')\n",
    "elif Number>70:\n",
    "    print('Congratulation, you can now move to the next stage.')\n",
    "else:\n",
    "    print('Please rewrite the recruitment test.')"
   ]
  },
  {
   "cell_type": "code",
   "execution_count": 9,
   "metadata": {},
   "outputs": [
    {
     "name": "stdout",
     "output_type": "stream",
     "text": [
      "What is your mark in the recruitment test:60\n",
      "You are on average, try again\n"
     ]
    }
   ],
   "source": [
    "Number = float(input(\"What is your mark in the recruitment test:\"))\n",
    "\n",
    "if Number>=50 and Number<=69:\n",
    "    print('You are on average, try again')\n",
    "elif Number>70:\n",
    "    print('Congratulation, you can now move to the next stage.')\n",
    "else:\n",
    "    print('Please rewrite the recruitment test.')"
   ]
  },
  {
   "cell_type": "code",
   "execution_count": 11,
   "metadata": {},
   "outputs": [
    {
     "name": "stdout",
     "output_type": "stream",
     "text": [
      "What is your mark in the recruitment test:70\n",
      "Congratulation, you can now move to the next stage.\n"
     ]
    }
   ],
   "source": [
    "Number = float(input(\"What is your mark in the recruitment test:\"))\n",
    "\n",
    "if Number>=50 and Number<=69:\n",
    "    print('You are on average, try again')\n",
    "elif Number>=70:\n",
    "    print('Congratulation, you can now move to the next stage.')\n",
    "else:\n",
    "    print('Please rewrite the recruitment test.')"
   ]
  },
  {
   "cell_type": "code",
   "execution_count": 17,
   "metadata": {},
   "outputs": [
    {
     "name": "stdout",
     "output_type": "stream",
     "text": [
      "x is not greater than y\n"
     ]
    }
   ],
   "source": [
    "x = 10\n",
    "y = 43\n",
    "\n",
    "if x > y:\n",
    "    print('x is greater than y')\n",
    "else:\n",
    "    print('x is not greater than y')"
   ]
  },
  {
   "cell_type": "code",
   "execution_count": 19,
   "metadata": {},
   "outputs": [
    {
     "name": "stdout",
     "output_type": "stream",
     "text": [
      "Please enter your password to the Web Page: Olasehinde\n",
      "Olasehinde\n"
     ]
    }
   ],
   "source": [
    "Username = str(input(\"Please enter your password to the Web Page: \"))\n",
    "\n",
    "if len(Username)<6:\n",
    "    print('Please enter a Username of atleast 6 character')\n",
    "    \n",
    "print(Username)"
   ]
  },
  {
   "cell_type": "code",
   "execution_count": 20,
   "metadata": {},
   "outputs": [
    {
     "name": "stdout",
     "output_type": "stream",
     "text": [
      "Please enter your password to the Web Page: Layo\n",
      "Please enter a Username of atleast 6 character\n",
      "Layo\n"
     ]
    }
   ],
   "source": [
    "Username = str(input(\"Please enter your password to the Web Page: \"))\n",
    "\n",
    "if len(Username)<6:\n",
    "    print('Please enter a Username of atleast 6 characters')\n",
    "    \n",
    "print(Username)"
   ]
  },
  {
   "cell_type": "code",
   "execution_count": null,
   "metadata": {},
   "outputs": [],
   "source": []
  },
  {
   "cell_type": "code",
   "execution_count": 8,
   "metadata": {},
   "outputs": [
    {
     "name": "stdout",
     "output_type": "stream",
     "text": [
      "Please enter your password to the web pageGbenga\n",
      "Access Denied\n"
     ]
    }
   ],
   "source": [
    "Password = str(input(\"Please enter your password to the web page\"))\n",
    "\n",
    "if Password!='Olasehinde':\n",
    "    print(\"Access Denied\")"
   ]
  },
  {
   "cell_type": "code",
   "execution_count": 6,
   "metadata": {},
   "outputs": [
    {
     "data": {
      "text/plain": [
       "True"
      ]
     },
     "execution_count": 6,
     "metadata": {},
     "output_type": "execute_result"
    }
   ],
   "source": [
    "x = 5\n",
    "\n",
    "x != 6"
   ]
  },
  {
   "cell_type": "markdown",
   "metadata": {},
   "source": [
    "## If. . .else. . .Statement"
   ]
  },
  {
   "cell_type": "code",
   "execution_count": null,
   "metadata": {},
   "outputs": [],
   "source": []
  },
  {
   "cell_type": "code",
   "execution_count": null,
   "metadata": {},
   "outputs": [],
   "source": []
  },
  {
   "cell_type": "code",
   "execution_count": null,
   "metadata": {},
   "outputs": [],
   "source": []
  }
 ],
 "metadata": {
  "kernelspec": {
   "display_name": "Python 3",
   "language": "python",
   "name": "python3"
  },
  "language_info": {
   "codemirror_mode": {
    "name": "ipython",
    "version": 3
   },
   "file_extension": ".py",
   "mimetype": "text/x-python",
   "name": "python",
   "nbconvert_exporter": "python",
   "pygments_lexer": "ipython3",
   "version": "3.7.4"
  }
 },
 "nbformat": 4,
 "nbformat_minor": 2
}
