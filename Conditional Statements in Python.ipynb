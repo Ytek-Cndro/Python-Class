{
 "cells": [
  {
   "cell_type": "markdown",
   "metadata": {},
   "source": [
    "# Conditional Statements in Python"
   ]
  },
  {
   "cell_type": "markdown",
   "metadata": {},
   "source": [
    "### * Conditional Statement in Python perform different actions depending on whether a specific Boolean constraint evaluates to true or false.\n",
    "\n"
   ]
  },
  {
   "cell_type": "markdown",
   "metadata": {},
   "source": [
    "### * Conditional statements are handled by IF statements in Python."
   ]
  },
  {
   "cell_type": "markdown",
   "metadata": {},
   "source": [
    "### * Conditional statements are also known as decision-making statements. \n",
    "### * We use these statements when we want to execute a block of code when the given condition is true or false."
   ]
  },
  {
   "cell_type": "markdown",
   "metadata": {},
   "source": [
    "## What to cover in this Class"
   ]
  },
  {
   "cell_type": "markdown",
   "metadata": {},
   "source": [
    "### 1. If Statement (One-way Decisions)\n",
    "### 2. If…else statement (Two-Way Decisions)\n",
    "### 3. If…elif…else statement (Multi-way)\n",
    "### 4. Nested if Statement"
   ]
  },
  {
   "cell_type": "code",
   "execution_count": null,
   "metadata": {},
   "outputs": [],
   "source": []
  },
  {
   "cell_type": "markdown",
   "metadata": {},
   "source": [
    "### If Statement (One-way Decisions)"
   ]
  },
  {
   "cell_type": "code",
   "execution_count": 5,
   "metadata": {},
   "outputs": [
    {
     "name": "stdout",
     "output_type": "stream",
     "text": [
      "X is less than 10\n"
     ]
    }
   ],
   "source": [
    "x = 10\n",
    "\n",
    "if x < 15: #x < 10 is the condition/expression\n",
    "    print(\"X is less than 10\")"
   ]
  },
  {
   "cell_type": "code",
   "execution_count": 6,
   "metadata": {},
   "outputs": [],
   "source": [
    "x = 10\n",
    "\n",
    "if x < 10: #x < 10 is the condition/expression\n",
    "    print(\"X is less than 10\")"
   ]
  },
  {
   "cell_type": "code",
   "execution_count": 8,
   "metadata": {},
   "outputs": [
    {
     "name": "stdout",
     "output_type": "stream",
     "text": [
      "40 is greater than 25\n"
     ]
    }
   ],
   "source": [
    "if 40 > 25:\n",
    "    print(\"40 is greater than 25\")"
   ]
  },
  {
   "cell_type": "code",
   "execution_count": 10,
   "metadata": {},
   "outputs": [
    {
     "name": "stdout",
     "output_type": "stream",
     "text": [
      "15\n",
      "x is less than 10\n"
     ]
    }
   ],
   "source": [
    "x = 5\n",
    "y = 10\n",
    "\n",
    "if x < y:\n",
    "    z = x + y\n",
    "    print(z)\n",
    "    print(\"x is less than 10\")"
   ]
  },
  {
   "cell_type": "code",
   "execution_count": 12,
   "metadata": {},
   "outputs": [
    {
     "name": "stdout",
     "output_type": "stream",
     "text": [
      "Cndro!\n",
      "x is not greater than y\n"
     ]
    }
   ],
   "source": [
    "if x < y:\n",
    "    print(\"Cndro!\")\n",
    "    print(\"x is not greater than y\")"
   ]
  },
  {
   "cell_type": "code",
   "execution_count": null,
   "metadata": {},
   "outputs": [],
   "source": []
  },
  {
   "cell_type": "code",
   "execution_count": null,
   "metadata": {},
   "outputs": [],
   "source": []
  },
  {
   "cell_type": "markdown",
   "metadata": {},
   "source": [
    "### If…else statement (Two-Way Decisions)"
   ]
  },
  {
   "cell_type": "code",
   "execution_count": 14,
   "metadata": {},
   "outputs": [
    {
     "name": "stdout",
     "output_type": "stream",
     "text": [
      "x is less than y\n",
      "5\n"
     ]
    }
   ],
   "source": [
    "x = 45\n",
    "y = 50\n",
    "\n",
    "if x > y:\n",
    "    powx = x**2\n",
    "    print(\"x is greater than y\")\n",
    "    print(powx)\n",
    "else:\n",
    "    print(\"x is less than y\")\n",
    "    sub = y - x\n",
    "    print(sub)"
   ]
  },
  {
   "cell_type": "code",
   "execution_count": null,
   "metadata": {},
   "outputs": [],
   "source": []
  },
  {
   "cell_type": "code",
   "execution_count": null,
   "metadata": {},
   "outputs": [],
   "source": []
  },
  {
   "cell_type": "code",
   "execution_count": null,
   "metadata": {},
   "outputs": [],
   "source": []
  },
  {
   "cell_type": "markdown",
   "metadata": {},
   "source": [
    "### If…elif…else statement (Multi-way)"
   ]
  },
  {
   "cell_type": "code",
   "execution_count": 17,
   "metadata": {},
   "outputs": [
    {
     "name": "stdout",
     "output_type": "stream",
     "text": [
      "Please type in your Test Score: 80\n",
      "Nice Work, You score an A\n"
     ]
    }
   ],
   "source": [
    "testscore = int(input(\"Please type in your Test Score: \"))\n",
    "\n",
    "if testscore > 70:\n",
    "    print(\"Nice Work, You score an A\")"
   ]
  },
  {
   "cell_type": "code",
   "execution_count": 18,
   "metadata": {},
   "outputs": [
    {
     "name": "stdout",
     "output_type": "stream",
     "text": [
      "Please type in your Test Score: 50\n"
     ]
    }
   ],
   "source": [
    "testscore = int(input(\"Please type in your Test Score: \"))\n",
    "\n",
    "if testscore > 70:\n",
    "    print(\"Nice Work, You score an A\")"
   ]
  },
  {
   "cell_type": "code",
   "execution_count": 23,
   "metadata": {},
   "outputs": [
    {
     "name": "stdout",
     "output_type": "stream",
     "text": [
      "Please type in your Test Score: 40\n",
      "Nice Work, you are on average! you need to work more\n"
     ]
    }
   ],
   "source": [
    "testscore = int(input(\"Please type in your Test Score: \"))\n",
    "\n",
    "if testscore > 70:\n",
    "    print(\"Nice Work, You score an A\")\n",
    "elif testscore < 70 and testscore > 60:\n",
    "    print(\"You Score B\")\n",
    "else: \n",
    "    print(\"Nice Work, you are on average! you need to work more\")"
   ]
  },
  {
   "cell_type": "code",
   "execution_count": null,
   "metadata": {},
   "outputs": [],
   "source": [
    "x < 60 and y > 60"
   ]
  },
  {
   "cell_type": "code",
   "execution_count": 25,
   "metadata": {},
   "outputs": [
    {
     "name": "stdout",
     "output_type": "stream",
     "text": [
      "x is less than y\n"
     ]
    }
   ],
   "source": [
    "x = 2\n",
    "y = 20\n",
    "\n",
    "if x==y:\n",
    "    print(\"the value of x is equal to y\")\n",
    "elif x>=y:\n",
    "    mult = x**y\n",
    "    print(\"x is not greater than y\")\n",
    "elif x<=y:\n",
    "    print(\"x is less than y\")\n",
    "else:\n",
    "    print(\"Cndro! that's all\")"
   ]
  },
  {
   "cell_type": "code",
   "execution_count": 27,
   "metadata": {},
   "outputs": [
    {
     "name": "stdout",
     "output_type": "stream",
     "text": [
      "x square y is 262144000000000000000000\n"
     ]
    }
   ],
   "source": [
    "x = 20\n",
    "y = 18\n",
    "\n",
    "if x==y:\n",
    "    print(\"the value of x is equal to y\")\n",
    "elif x>=y:\n",
    "    mult = x**y\n",
    "    print(\"x square y is\",mult)\n",
    "elif x<=y:\n",
    "    print(\"x is less than y\")\n",
    "else:\n",
    "    print(\"Cndro! that's all\")"
   ]
  },
  {
   "cell_type": "code",
   "execution_count": null,
   "metadata": {},
   "outputs": [],
   "source": []
  },
  {
   "cell_type": "markdown",
   "metadata": {},
   "source": [
    "### The Nested if Statement"
   ]
  },
  {
   "cell_type": "code",
   "execution_count": 28,
   "metadata": {},
   "outputs": [
    {
     "name": "stdout",
     "output_type": "stream",
     "text": [
      "x is less than y\n",
      "Hello, y is less than z\n",
      "22\n"
     ]
    }
   ],
   "source": [
    "x = 5\n",
    "y = 7\n",
    "z = 10\n",
    "\n",
    "if x<=y:\n",
    "    print(\"x is less than y\")\n",
    "    if y<z:\n",
    "        print(\"Hello, y is less than z\")\n",
    "        addition = x + y + z\n",
    "        print(addition)"
   ]
  },
  {
   "cell_type": "code",
   "execution_count": 30,
   "metadata": {},
   "outputs": [
    {
     "name": "stdout",
     "output_type": "stream",
     "text": [
      "x is less than y\n",
      "Hello, y is less than z\n",
      "22\n"
     ]
    }
   ],
   "source": [
    "x = 5\n",
    "y = 7\n",
    "z = 10\n",
    "\n",
    "if z>=y:\n",
    "    print(\"x is less than y\")\n",
    "    if y<z:\n",
    "        print(\"Hello, y is less than z\")\n",
    "        addition = x + y + z\n",
    "        print(addition)"
   ]
  },
  {
   "cell_type": "code",
   "execution_count": null,
   "metadata": {},
   "outputs": [],
   "source": []
  },
  {
   "cell_type": "code",
   "execution_count": 1,
   "metadata": {},
   "outputs": [
    {
     "data": {
      "text/plain": [
       "'C:\\\\Users\\\\PARTBOYZ AUTO PARTS'"
      ]
     },
     "execution_count": 1,
     "metadata": {},
     "output_type": "execute_result"
    }
   ],
   "source": [
    "%pwd"
   ]
  },
  {
   "cell_type": "code",
   "execution_count": null,
   "metadata": {},
   "outputs": [],
   "source": []
  },
  {
   "cell_type": "code",
   "execution_count": null,
   "metadata": {},
   "outputs": [],
   "source": []
  },
  {
   "cell_type": "code",
   "execution_count": null,
   "metadata": {},
   "outputs": [],
   "source": []
  }
 ],
 "metadata": {
  "kernelspec": {
   "display_name": "Python 3",
   "language": "python",
   "name": "python3"
  },
  "language_info": {
   "codemirror_mode": {
    "name": "ipython",
    "version": 3
   },
   "file_extension": ".py",
   "mimetype": "text/x-python",
   "name": "python",
   "nbconvert_exporter": "python",
   "pygments_lexer": "ipython3",
   "version": "3.7.4"
  }
 },
 "nbformat": 4,
 "nbformat_minor": 2
}
